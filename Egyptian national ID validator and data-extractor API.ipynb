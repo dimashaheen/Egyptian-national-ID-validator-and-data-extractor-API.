{
 "cells": [
  {
   "cell_type": "code",
   "execution_count": 1,
   "id": "5231995f",
   "metadata": {},
   "outputs": [],
   "source": [
    "import pandas as pd"
   ]
  },
  {
   "cell_type": "code",
   "execution_count": 2,
   "id": "78eed2ef",
   "metadata": {},
   "outputs": [],
   "source": [
    "class EgyptianNationalIDValidator:\n",
    "    def __init__(self, nationalId):\n",
    "        self.nationalId = nationalId\n",
    "        self.valid = self.validateNationalId()\n",
    "        if self.valid:\n",
    "            self.birthDate = self.extractBirthDate()\n",
    "            self.governorate = self.extractGovernorate()\n",
    "            self.gender = self.extractGender()\n",
    "        else:\n",
    "            self.birthDate = None\n",
    "            self.governorate = None\n",
    "            self.gender = None\n",
    "\n",
    "    def validateNationalId(self):\n",
    "        if len(self.nationalId) != 14 or not self.nationalId.isdigit():\n",
    "            return False\n",
    "        \n",
    "        #\"3 01 05 17 0104863\" # 2 = 1900 and 3 = 2000\n",
    "        # birth date \n",
    "        century = int(self.nationalId[0])\n",
    "        year = int(self.nationalId[1:3])\n",
    "        month = int(self.nationalId[3:5])\n",
    "        day = int(self.nationalId[5:7])\n",
    "        \n",
    "        \n",
    "        if century not in [2, 3]:  \n",
    "            return False\n",
    "        if month < 1 or month > 12:\n",
    "            return False\n",
    "        if day < 1 or day > 31:\n",
    "            return False      \n",
    "        if month in [4, 6, 9, 11] and day > 30:\n",
    "            return False\n",
    "        if month == 2:\n",
    "            birthYear = 1900 + year if century == 2 else 2000 + year\n",
    "            isLeapYear = (birthYear % 4 == 0 and birthYear % 100 != 0) or (birthYear % 400 == 0)\n",
    "            if day > 29 if isLeapYear else day > 28:\n",
    "                return False\n",
    "        return True\n",
    "\n",
    "    def extractBirthDate(self):\n",
    "        century = int(self.nationalId[0])\n",
    "        year = int(self.nationalId[1:3])\n",
    "        month = int(self.nationalId[3:5])\n",
    "        day = int(self.nationalId[5:7])\n",
    "        \n",
    "        if century == 2:\n",
    "            birthYear = 1900 + year\n",
    "        else:\n",
    "            2000 + year\n",
    "                \n",
    "        return f\"{birthYear}/{month:02d}/{day:02d}\"\n",
    "    \n",
    "\n",
    "    def extractGovernorate(self):\n",
    "        #\"3010517 01 04863\"\n",
    "        governorateCode = self.nationalId[7:9]\n",
    "        governorateMapping = {\"01\": \"Cairo\",\n",
    "                              \"02\": \"Alexandria\",\n",
    "                              \"03\": \"Port Said\",\n",
    "                              \"04\": \"Suez\", }\n",
    "        return governorateMapping.get(governorateCode, \"Unknown Governorate\")\n",
    "    \n",
    "    def extractGender(self):\n",
    "        #\"3010517010486 3 \"\n",
    "        genderDigit = int(self.nationalId[12])\n",
    "        if genderDigit % 2 != 0: \n",
    "            return \"Female\"   \n",
    "        else:\n",
    "            return \"Male\"\n",
    "\n",
    "    def getInfo(self):\n",
    "        if not self.valid:\n",
    "            return {\"valid\": False, \"message\": \"Invalid national ID.\"}\n",
    "        \n",
    "        return {\n",
    "            \"valid\": True,\n",
    "            \"birth_date\": self.birthDate,\n",
    "            \"governorate\": self.governorate,\n",
    "            \"gender\": self.gender,\n",
    "            \"message\": \"National ID is valid.\"\n",
    "        }"
   ]
  },
  {
   "cell_type": "code",
   "execution_count": 3,
   "id": "500d29a1",
   "metadata": {},
   "outputs": [
    {
     "name": "stdout",
     "output_type": "stream",
     "text": [
      "{'valid': True, 'birth_date': '1990/01/01', 'governorate': 'Unknown Governorate', 'gender': 'Male', 'message': 'National ID is valid.'}\n"
     ]
    }
   ],
   "source": [
    "# Test with a valid national ID\n",
    "nationalId = \"29001011234567\"\n",
    "validator = EgyptianNationalIDValidator(nationalId)\n",
    "result = validator.getInfo()\n",
    "print(result)"
   ]
  },
  {
   "cell_type": "code",
   "execution_count": 4,
   "id": "b2ce00a3",
   "metadata": {},
   "outputs": [
    {
     "name": "stdout",
     "output_type": "stream",
     "text": [
      "Requirement already satisfied: djangorestframework in c:\\users\\diman\\anaconda3\\lib\\site-packages (3.15.2)\n",
      "Requirement already satisfied: django>=4.2 in c:\\users\\diman\\anaconda3\\lib\\site-packages (from djangorestframework) (4.2.18)\n",
      "Requirement already satisfied: asgiref<4,>=3.6.0 in c:\\users\\diman\\anaconda3\\lib\\site-packages (from django>=4.2->djangorestframework) (3.8.1)\n",
      "Requirement already satisfied: tzdata in c:\\users\\diman\\anaconda3\\lib\\site-packages (from django>=4.2->djangorestframework) (2025.1)\n",
      "Requirement already satisfied: sqlparse>=0.3.1 in c:\\users\\diman\\anaconda3\\lib\\site-packages (from django>=4.2->djangorestframework) (0.5.3)\n",
      "Requirement already satisfied: typing-extensions>=4 in c:\\users\\diman\\anaconda3\\lib\\site-packages (from asgiref<4,>=3.6.0->django>=4.2->djangorestframework) (4.3.0)\n"
     ]
    }
   ],
   "source": [
    "!pip install djangorestframework"
   ]
  },
  {
   "cell_type": "code",
   "execution_count": 5,
   "id": "138d6afd",
   "metadata": {},
   "outputs": [
    {
     "name": "stderr",
     "output_type": "stream",
     "text": [
      "python: can't open file 'C:\\Users\\diman\\manage.py': [Errno 2] No such file or directory\n"
     ]
    }
   ],
   "source": [
    "!python manage.py startapp id_validator"
   ]
  },
  {
   "cell_type": "code",
   "execution_count": 7,
   "id": "786f6cb5",
   "metadata": {
    "scrolled": true
   },
   "outputs": [
    {
     "name": "stdout",
     "output_type": "stream",
     "text": [
      "Django REST Framework is installed!\n",
      "C:\\Users\\diman\\anaconda3\\python.exe\n",
      "Django and DRF are configured!\n"
     ]
    }
   ],
   "source": [
    "import rest_framework\n",
    "print(\"Django REST Framework is installed!\")\n",
    "\n",
    "import sys\n",
    "print(sys.executable)\n",
    "\n",
    "INSTALLED_APPS = [\n",
    "    'django.contrib.admin',\n",
    "    'django.contrib.auth',\n",
    "    'django.contrib.contenttypes',\n",
    "    'django.contrib.sessions',\n",
    "    'django.contrib.messages',\n",
    "    'django.contrib.staticfiles',\n",
    "    'rest_framework',  \n",
    "]\n",
    "\n",
    "from django.core.management import call_command\n",
    "\n",
    "import os\n",
    "import django\n",
    "from django.conf import settings\n",
    "\n",
    "# Set the Django settings module\n",
    "os.environ.setdefault('DJANGO_SETTINGS_MODULE', 'myproject.settings')\n",
    "\n",
    "# Configure Django settings\n",
    "if not settings.configured:\n",
    "    settings.configure(\n",
    "        INSTALLED_APPS=[\n",
    "            'django.contrib.auth',\n",
    "            'django.contrib.contenttypes',\n",
    "            'rest_framework',\n",
    "        ],\n",
    "        REST_FRAMEWORK={\n",
    "            'DEFAULT_THROTTLE_CLASSES': [\n",
    "                'rest_framework.throttling.UserRateThrottle',\n",
    "            ],\n",
    "            'DEFAULT_THROTTLE_RATES': {\n",
    "                'user': '100/day',\n",
    "            },\n",
    "        },\n",
    "    )\n",
    "\n",
    "# Initialize Django\n",
    "django.setup()\n",
    "\n",
    "# Now you can use DRF\n",
    "from rest_framework.throttling import UserRateThrottle\n",
    "\n",
    "class CustomThrottle(UserRateThrottle):\n",
    "    rate = '100/day'\n",
    "\n",
    "print(\"Django and DRF are configured!\")"
   ]
  },
  {
   "cell_type": "code",
   "execution_count": 8,
   "id": "0a121e4e",
   "metadata": {},
   "outputs": [],
   "source": [
    "from rest_framework.views import APIView\n",
    "from rest_framework.response import Response\n",
    "\n",
    "class ValidateNationalIDView(APIView):\n",
    "    throttle_classes = [CustomThrottle]\n",
    "\n",
    "    def post(self, request):\n",
    "        nationalId = request.data.get('nationalId')\n",
    "        validator = EgyptianNationalIDValidator(nationalId)\n",
    "        return Response(validator.getInfo())"
   ]
  },
  {
   "cell_type": "code",
   "execution_count": 9,
   "id": "ddc5dcb7",
   "metadata": {},
   "outputs": [],
   "source": [
    "from rest_framework.authentication import BaseAuthentication\n",
    "from rest_framework.exceptions import AuthenticationFailed\n",
    "\n",
    "class APIKeyAuthentication(BaseAuthentication):\n",
    "    def authentication(self, request):\n",
    "        apiKey = request.META.get('HTTP_X_API_KEY')\n",
    "        if not apiKey:\n",
    "            return None\n",
    "        try:\n",
    "            user = User.objects.get(apiKey=apiKey)\n",
    "        except User.DoesNotExist:\n",
    "            raise AuthenticationFailed('Invalid API key.')\n",
    "        return (user, None)"
   ]
  },
  {
   "cell_type": "code",
   "execution_count": 10,
   "id": "b4206703",
   "metadata": {},
   "outputs": [
    {
     "name": "stderr",
     "output_type": "stream",
     "text": [
      "python: can't open file 'C:\\Users\\diman\\manage.py': [Errno 2] No such file or directory\n"
     ]
    }
   ],
   "source": [
    "!python manage.py startapp id_validator"
   ]
  },
  {
   "cell_type": "code",
   "execution_count": 11,
   "id": "9a269c75",
   "metadata": {},
   "outputs": [],
   "source": [
    "from django.db import models\n",
    "from django.contrib.auth.models import User\n",
    "\n",
    "class APICallLog(models.Model):\n",
    "    user = models.ForeignKey(User, on_delete=models.CASCADE)\n",
    "    national_id = models.CharField(max_length=14)\n",
    "    timestamp = models.DateTimeField(auto_now_add=True)\n",
    "\n",
    "    class Meta:\n",
    "        app_label = 'id_validator'  "
   ]
  },
  {
   "cell_type": "code",
   "execution_count": 12,
   "id": "88362976",
   "metadata": {},
   "outputs": [],
   "source": [
    "def validate_national_id(request):\n",
    "    APICallLog.objects.create(user=request.user, national_id=national_id)"
   ]
  },
  {
   "cell_type": "code",
   "execution_count": null,
   "id": "e4ec7b2b",
   "metadata": {},
   "outputs": [],
   "source": []
  },
  {
   "cell_type": "code",
   "execution_count": null,
   "id": "63dc46ca",
   "metadata": {},
   "outputs": [],
   "source": []
  },
  {
   "cell_type": "code",
   "execution_count": null,
   "id": "2945dc1d",
   "metadata": {},
   "outputs": [],
   "source": []
  },
  {
   "cell_type": "code",
   "execution_count": null,
   "id": "3ba4afa8",
   "metadata": {},
   "outputs": [],
   "source": []
  },
  {
   "cell_type": "code",
   "execution_count": null,
   "id": "a08ef4db",
   "metadata": {},
   "outputs": [],
   "source": []
  },
  {
   "cell_type": "code",
   "execution_count": null,
   "id": "675552b2",
   "metadata": {},
   "outputs": [],
   "source": []
  },
  {
   "cell_type": "code",
   "execution_count": null,
   "id": "54495436",
   "metadata": {},
   "outputs": [],
   "source": []
  },
  {
   "cell_type": "code",
   "execution_count": null,
   "id": "be2991ef",
   "metadata": {},
   "outputs": [],
   "source": []
  }
 ],
 "metadata": {
  "kernelspec": {
   "display_name": "Python 3 (ipykernel)",
   "language": "python",
   "name": "python3"
  },
  "language_info": {
   "codemirror_mode": {
    "name": "ipython",
    "version": 3
   },
   "file_extension": ".py",
   "mimetype": "text/x-python",
   "name": "python",
   "nbconvert_exporter": "python",
   "pygments_lexer": "ipython3",
   "version": "3.9.13"
  }
 },
 "nbformat": 4,
 "nbformat_minor": 5
}
